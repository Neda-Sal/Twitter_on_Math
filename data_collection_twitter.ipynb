{
 "cells": [
  {
   "cell_type": "markdown",
   "metadata": {},
   "source": [
    "## Collect tweets with keyword \"math\" in them. Limited to only grab 300 tweets every 15 minutes"
   ]
  },
  {
   "cell_type": "code",
   "execution_count": 1,
   "metadata": {},
   "outputs": [],
   "source": [
    "import tweepy\n",
    "import pandas as pd\n",
    "import time\n",
    "import re\n",
    "\n",
    "############### Connecting to the API ##############\n",
    "\n",
    "twitter_keys = {\n",
    "        'consumer_key':        'my_consumer_key',\n",
    "        'consumer_secret':     'my_consumer_secret',\n",
    "        'access_token_key':    'my_access_token_key',\n",
    "        'access_token_secret': 'my_access_token_secret'\n",
    "    }\n"
   ]
  },
  {
   "cell_type": "code",
   "execution_count": 2,
   "metadata": {},
   "outputs": [],
   "source": [
    "#Setup access to API\n",
    "auth = tweepy.OAuthHandler(twitter_keys['consumer_key'], twitter_keys['consumer_secret'])\n",
    "auth.set_access_token(twitter_keys['access_token_key'], twitter_keys['access_token_secret'])\n",
    "\n",
    "api = tweepy.API(auth)"
   ]
  },
  {
   "cell_type": "code",
   "execution_count": 3,
   "metadata": {},
   "outputs": [],
   "source": [
    "# PULLING FROM THE TIMELINE\n",
    "# Make call on home timeline, print each tweets text\n",
    "public_tweets = api.home_timeline(count=10, tweet_mode='extended')\n",
    "for tweet in public_tweets:\n",
    "    print(tweet.full_text, '\\n')"
   ]
  },
  {
   "cell_type": "code",
   "execution_count": 4,
   "metadata": {},
   "outputs": [],
   "source": [
    "def text_query_to_df(text_query,count):\n",
    "    try:\n",
    "        # Creation of query method using parameters\n",
    "        tweets = tweepy.Cursor(api.search, q=text_query, tweet_mode='extended').items(count)\n",
    "\n",
    "        # Pulling information from tweets iterable object\n",
    "        tweets_list = [[tweet.created_at, tweet.user.screen_name, tweet.user.location, \n",
    "                        tweet.id, tweet.favorite_count, tweet.retweet_count, \n",
    "                        tweet.full_text] for tweet in tweets]\n",
    "\n",
    "        # Creation of dataframe from tweets list\n",
    "        # Add or remove columns as you remove tweet information\n",
    "        tweets_df = pd.DataFrame(tweets_list,\n",
    "                                 columns=['datetime', 'username', 'location', 'tweet_id', \n",
    "                                          'num_favorites', 'num_retweets','text'])\n",
    "\n",
    "    except BaseException as e:\n",
    "        print('failed on_status,',str(e))\n",
    "        time.sleep(3)\n",
    "        \n",
    "    return tweets_df "
   ]
  },
  {
   "cell_type": "code",
   "execution_count": 5,
   "metadata": {},
   "outputs": [],
   "source": [
    "# Example: tweets about 'math'\n",
    "text_query = 'Math'\n",
    "count = 300\n",
    "math_search = text_query_to_df(text_query, count)"
   ]
  },
  {
   "cell_type": "code",
   "execution_count": 16,
   "metadata": {
    "scrolled": true
   },
   "outputs": [
    {
     "data": {
      "text/html": [
       "<div>\n",
       "<style scoped>\n",
       "    .dataframe tbody tr th:only-of-type {\n",
       "        vertical-align: middle;\n",
       "    }\n",
       "\n",
       "    .dataframe tbody tr th {\n",
       "        vertical-align: top;\n",
       "    }\n",
       "\n",
       "    .dataframe thead th {\n",
       "        text-align: right;\n",
       "    }\n",
       "</style>\n",
       "<table border=\"1\" class=\"dataframe\">\n",
       "  <thead>\n",
       "    <tr style=\"text-align: right;\">\n",
       "      <th></th>\n",
       "      <th>datetime</th>\n",
       "      <th>username</th>\n",
       "      <th>location</th>\n",
       "      <th>tweet_id</th>\n",
       "      <th>num_favorites</th>\n",
       "      <th>num_retweets</th>\n",
       "      <th>text</th>\n",
       "    </tr>\n",
       "  </thead>\n",
       "  <tbody>\n",
       "    <tr>\n",
       "      <th>0</th>\n",
       "      <td>2020-11-02 00:36:03</td>\n",
       "      <td>kurage_Ref</td>\n",
       "      <td>深海</td>\n",
       "      <td>1323061272624033792</td>\n",
       "      <td>0</td>\n",
       "      <td>0</td>\n",
       "      <td>@math__like 都民</td>\n",
       "    </tr>\n",
       "    <tr>\n",
       "      <th>1</th>\n",
       "      <td>2020-11-02 00:36:02</td>\n",
       "      <td>Live2teachLives</td>\n",
       "      <td>Levelland, Texas, USA</td>\n",
       "      <td>1323061269927251968</td>\n",
       "      <td>0</td>\n",
       "      <td>0</td>\n",
       "      <td>@HamillHimself The Force of math is not with you.</td>\n",
       "    </tr>\n",
       "    <tr>\n",
       "      <th>2</th>\n",
       "      <td>2020-11-02 00:36:02</td>\n",
       "      <td>NotSuperIsTaken</td>\n",
       "      <td>Trying to get free bobux</td>\n",
       "      <td>1323061269000310784</td>\n",
       "      <td>0</td>\n",
       "      <td>0</td>\n",
       "      <td>@JorgeHe18983518 @Roblox what math? what game ...</td>\n",
       "    </tr>\n",
       "    <tr>\n",
       "      <th>3</th>\n",
       "      <td>2020-11-02 00:36:02</td>\n",
       "      <td>chayaelizabeth</td>\n",
       "      <td>bucky barnes’s AND zuko’s ass</td>\n",
       "      <td>1323061268861825025</td>\n",
       "      <td>0</td>\n",
       "      <td>0</td>\n",
       "      <td>never forget me in high school being a vegetar...</td>\n",
       "    </tr>\n",
       "    <tr>\n",
       "      <th>4</th>\n",
       "      <td>2020-11-02 00:36:02</td>\n",
       "      <td>Nashrambl_</td>\n",
       "      <td>she/they | ace |</td>\n",
       "      <td>1323061267687333888</td>\n",
       "      <td>0</td>\n",
       "      <td>0</td>\n",
       "      <td>Just got 55 on my math test love it here 😍😍😍 /neg</td>\n",
       "    </tr>\n",
       "    <tr>\n",
       "      <th>...</th>\n",
       "      <td>...</td>\n",
       "      <td>...</td>\n",
       "      <td>...</td>\n",
       "      <td>...</td>\n",
       "      <td>...</td>\n",
       "      <td>...</td>\n",
       "      <td>...</td>\n",
       "    </tr>\n",
       "    <tr>\n",
       "      <th>295</th>\n",
       "      <td>2020-11-02 00:29:06</td>\n",
       "      <td>Adrianna_VEWT</td>\n",
       "      <td>Los Angeles, CA</td>\n",
       "      <td>1323059525696524296</td>\n",
       "      <td>0</td>\n",
       "      <td>0</td>\n",
       "      <td>Are you looking for assignment help? We are ex...</td>\n",
       "    </tr>\n",
       "    <tr>\n",
       "      <th>296</th>\n",
       "      <td>2020-11-02 00:29:06</td>\n",
       "      <td>Spritznap</td>\n",
       "      <td>W/ Tommy and Tubbo</td>\n",
       "      <td>1323059522957680642</td>\n",
       "      <td>0</td>\n",
       "      <td>0</td>\n",
       "      <td>YO MY HONKIN COURSES CHANGED SO INSTEAD OF MAT...</td>\n",
       "    </tr>\n",
       "    <tr>\n",
       "      <th>297</th>\n",
       "      <td>2020-11-02 00:29:04</td>\n",
       "      <td>Crf_math</td>\n",
       "      <td>São Gonçalo, Brasil</td>\n",
       "      <td>1323059517563744257</td>\n",
       "      <td>0</td>\n",
       "      <td>29</td>\n",
       "      <td>RT @SlimShadyLM: Flamengo na alegria e putassa...</td>\n",
       "    </tr>\n",
       "    <tr>\n",
       "      <th>298</th>\n",
       "      <td>2020-11-02 00:29:04</td>\n",
       "      <td>desireamariee</td>\n",
       "      <td>Massachusetts, USA</td>\n",
       "      <td>1323059514409734144</td>\n",
       "      <td>0</td>\n",
       "      <td>0</td>\n",
       "      <td>math class</td>\n",
       "    </tr>\n",
       "    <tr>\n",
       "      <th>299</th>\n",
       "      <td>2020-11-02 00:29:02</td>\n",
       "      <td>44rotting</td>\n",
       "      <td>あなた無しで私の心を失う‼︎</td>\n",
       "      <td>1323059507711401985</td>\n",
       "      <td>0</td>\n",
       "      <td>0</td>\n",
       "      <td>Im convinced my fucking math teacher hates me ...</td>\n",
       "    </tr>\n",
       "  </tbody>\n",
       "</table>\n",
       "<p>300 rows × 7 columns</p>\n",
       "</div>"
      ],
      "text/plain": [
       "               datetime         username                       location  \\\n",
       "0   2020-11-02 00:36:03       kurage_Ref                             深海   \n",
       "1   2020-11-02 00:36:02  Live2teachLives          Levelland, Texas, USA   \n",
       "2   2020-11-02 00:36:02  NotSuperIsTaken       Trying to get free bobux   \n",
       "3   2020-11-02 00:36:02   chayaelizabeth  bucky barnes’s AND zuko’s ass   \n",
       "4   2020-11-02 00:36:02       Nashrambl_               she/they | ace |   \n",
       "..                  ...              ...                            ...   \n",
       "295 2020-11-02 00:29:06    Adrianna_VEWT                Los Angeles, CA   \n",
       "296 2020-11-02 00:29:06        Spritznap            W/ Tommy and Tubbo    \n",
       "297 2020-11-02 00:29:04         Crf_math            São Gonçalo, Brasil   \n",
       "298 2020-11-02 00:29:04    desireamariee             Massachusetts, USA   \n",
       "299 2020-11-02 00:29:02        44rotting                 あなた無しで私の心を失う‼︎   \n",
       "\n",
       "                tweet_id  num_favorites  num_retweets  \\\n",
       "0    1323061272624033792              0             0   \n",
       "1    1323061269927251968              0             0   \n",
       "2    1323061269000310784              0             0   \n",
       "3    1323061268861825025              0             0   \n",
       "4    1323061267687333888              0             0   \n",
       "..                   ...            ...           ...   \n",
       "295  1323059525696524296              0             0   \n",
       "296  1323059522957680642              0             0   \n",
       "297  1323059517563744257              0            29   \n",
       "298  1323059514409734144              0             0   \n",
       "299  1323059507711401985              0             0   \n",
       "\n",
       "                                                  text  \n",
       "0                                       @math__like 都民  \n",
       "1    @HamillHimself The Force of math is not with you.  \n",
       "2    @JorgeHe18983518 @Roblox what math? what game ...  \n",
       "3    never forget me in high school being a vegetar...  \n",
       "4    Just got 55 on my math test love it here 😍😍😍 /neg  \n",
       "..                                                 ...  \n",
       "295  Are you looking for assignment help? We are ex...  \n",
       "296  YO MY HONKIN COURSES CHANGED SO INSTEAD OF MAT...  \n",
       "297  RT @SlimShadyLM: Flamengo na alegria e putassa...  \n",
       "298                                         math class  \n",
       "299  Im convinced my fucking math teacher hates me ...  \n",
       "\n",
       "[300 rows x 7 columns]"
      ]
     },
     "execution_count": 16,
     "metadata": {},
     "output_type": "execute_result"
    }
   ],
   "source": [
    "math_search"
   ]
  },
  {
   "cell_type": "code",
   "execution_count": 17,
   "metadata": {
    "scrolled": true
   },
   "outputs": [
    {
     "name": "stdout",
     "output_type": "stream",
     "text": [
      "0 @math__like 都民\n",
      "1 @HamillHimself The Force of math is not with you.\n",
      "2 @JorgeHe18983518 @Roblox what math? what game account?\n",
      "3 never forget me in high school being a vegetarian and ordering a quarter pounder without a patty from a mcdonald’s on at a math club tournament\n",
      "4 Just got 55 on my math test love it here 😍😍😍 /neg\n",
      "5 @streamtun_ I swear some ppl do not know simple math\n",
      "6 強くならんとな\n",
      "7 @cure_math Yeah, that's why I said \"as if\"\n",
      "I know that it's incredibly poor representation, which it isn't to begin with except in our headcanons\n",
      "8 @VCNGUI LMFAOOOO “good job, you know your math”\n",
      "9 RT @spfcl3: Personne \n",
      "Mon cerveau en math\n",
      "10 RT @preshtalwalkar: Only 36% Solve The Cat In The Hat Puzzle\n",
      "\n",
      "Video\n",
      "https://t.co/J8shYi16fe\n",
      "\n",
      "Post\n",
      "https://t.co/GzjchkqmhX\n",
      "\n",
      "#mindyourdecisio…\n",
      "11 RT @ValaAfshar: The benefits of math and geometry https://t.co/X2vqYFa8HY\n",
      "12 RT @ValaAfshar: The benefits of math and geometry https://t.co/X2vqYFa8HY\n",
      "13 RT @pgliljedahl: There is now a free book study guide available for Building Thinking Classrooms in Math #ThinkingClassroom . You can get i…\n",
      "14 Horse Lover's Math's latest newsletter is out now offering a FREE #horsemath DL and links to fun, #distancelearning content for kids who love #horses https://t.co/ZcaMjdB7SU #homeschool #educationrevolution #selfdirectededucation #ponyhour #horselover #horselife #mathforkids https://t.co/al6cyoDfEC\n",
      "15 @MATHHOFFA yo Math what happened to that record you were gonna drop.. I think it went like “Friday Thank God it’s Friday”? (That’s all I remember from the snippet)\n",
      "16 I’m assuming someone did their math wrong because I don’t think single 19-year-olds are frequently allowed to adopt newborns but I did not need this today!!\n",
      "17 Putangina hindi pa pala ako tapos sa math 😭😭\n",
      "18 RT @JenniferCPara: Só eu que acho que o truco estraga a festa??\n",
      "19 RT @OutContextCerro: https://t.co/xFsGQA6yy2\n",
      "20 @beamarialc @du_falima Vc n vai se cagar de medo se estiver dormindo\n",
      "stonks\n",
      "21 The risk I took was calculated, but man, am I bad at math. https://t.co/F4TP7zzNQu\n",
      "22 RT @kurtababy: kurapika is NOT a 2D character. it's an emotion. he's the reason i wake up in the morning. he's what i think about in every…\n",
      "23 If you believe the economy is essential to your survival and the coronavirus is a threat to the economy, then your priority is eradicating the coronavirus.  Simple math.\n",
      "#VoteBiden\n",
      "24 I have three assignments one for math and one for Ap lit and one for economics which one should I start with ?\n",
      "25 Not to say anything bad about @MZHemingway ... Her Reporting is on par, what's the word \"math geeks/nerds\" use?  Ratio... no... \"To say something is so much...\" Wow I'm going incognizant in my brain function ... @MarkDice + @MZHemingway = @brianstelter wow i'm so lost ;) 🤔 https://t.co/AsOwCcgXaS\n",
      "26 elle do your shit list:\n",
      "- bio lesson questions \n",
      "- bio cpt due thursday (pick topic, research, google slides+ voiceover)\n",
      "- math unit 5 lessons 1-6 hw questions \n",
      "- math unit review \n",
      "- math unit 5 assignment (mon/tues) \n",
      "- math cpt (wed)\n",
      "- watch video lessons for math\n",
      "- print bio\n",
      "27 RT @HamillHimself: People in my replies are telling me that because we gained an hour, 2020 is actually 60 minutes longer. Math was never m…\n",
      "28 POURQUOI J'AI 18 DE MOYENNE EN MATH ALORS QUE JE COMPRENDS RIEN DE RIEN\n",
      "29 LA IL EST 1H28  DEMAIN JE ME LÈVE A 6H ET JE SUIS EN TRAIN DE FINIR MES MATH MAIS SINON TRQL SA PASSE 😤\n",
      "30 Hume was like “math is made up and we can’t trust it”\n",
      "31 Also, for posterity's sake, I only realized today was daylight savings time when I was woken up precisely at the moment the clocks changed over from a nightmare in which I failed a math test (I'm an adult??? I have a job??) \n",
      "\n",
      "So that's how high my anxiety is this nov1\n",
      "32 @JAEHEESUPPORTER this also works for anime and manga\n",
      "33 @_cagata_ To pensando em entrar no omegle kakskskksksks\n",
      "34 @athein1 R have cast 3385k, so if a 650k margin is necessary, D have to cast 4035k, and there are 5303k registered Democrats in the state. What’s wrong with my math?\n",
      "35 ça ft 30 minutes que j'bloque en math ptn j'comprends rien ça m'soule j'deviens folle j'vais péter un câble\n",
      "36 RT @mpvaniersel: More #pathfinding: Added \"greedy\" option. Faster, but doesn't always find shortest path. \n",
      "\n",
      "\"Greedy\" makes stepping away fr…\n",
      "37 um wait i have math tmr fack\n",
      "38 RT @HamillHimself: People in my replies are telling me that because we gained an hour, 2020 is actually 60 minutes longer. Math was never m…\n",
      "39 @JoshAllenGOD Yea. Your beloved Buffalo bills have a -1 point differential through 6 games. Unless my math is wrong.\n",
      "40 @HaylieRocha kindly hmu for math test help at a small fee\n",
      "41 NASA o crl\n",
      "Tiro foto com meu mundo eu mesmo https://t.co/oIWmvQgkeR\n",
      "42 RT @ValaAfshar: The benefits of math and geometry https://t.co/X2vqYFa8HY\n",
      "43 @ArianaGrande gave us a math problem that wasn’t even a carry the one and I still had to think about it. 😂\n",
      "44 RT @chiemin123: 1000フォローワー達成です！\n",
      "\n",
      "皆様、感謝です！\n",
      "\n",
      "記念イベントもしていきますね！\n",
      "45 tw/ math \n",
      "-\n",
      "-\n",
      "-\n",
      "-\n",
      "-\n",
      "who can help me with math omg pls\n",
      "46 わかりみ深し\n",
      "Bは取りたいなぁ… \n",
      "\n",
      "#Peing #質問箱 https://t.co/bNckKDLpz8\n",
      "47 @JawnySack Most suck at math hence they suck at life\n",
      "48 @StarseedTiffany 🤯\n",
      "\n",
      "Well shit....I coulda helped with Math...\n",
      "49 John Ivison: The math of saving lives — Canada's drug battle leaves patients caught in the middle https://t.co/r7lCj3Qjdd\n"
     ]
    }
   ],
   "source": [
    "for i in range(50):\n",
    "    print(i, math_search['text'][i])"
   ]
  },
  {
   "cell_type": "markdown",
   "metadata": {},
   "source": [
    "Need to wait 15 minutes before grabbing more"
   ]
  },
  {
   "cell_type": "code",
   "execution_count": 18,
   "metadata": {},
   "outputs": [],
   "source": [
    "math_search2 = text_query_to_df(text_query, count)"
   ]
  },
  {
   "cell_type": "code",
   "execution_count": 19,
   "metadata": {},
   "outputs": [],
   "source": [
    "math_search3 = text_query_to_df(text_query, count)"
   ]
  },
  {
   "cell_type": "markdown",
   "metadata": {},
   "source": [
    "check for duplicates between pulls"
   ]
  },
  {
   "cell_type": "code",
   "execution_count": 21,
   "metadata": {},
   "outputs": [],
   "source": [
    "for post in math_search2['text']:\n",
    "    if post in math_search3['text']:\n",
    "        print (post)"
   ]
  },
  {
   "cell_type": "code",
   "execution_count": 24,
   "metadata": {},
   "outputs": [],
   "source": [
    "math_search4 = text_query_to_df(text_query, count)"
   ]
  },
  {
   "cell_type": "code",
   "execution_count": 25,
   "metadata": {},
   "outputs": [],
   "source": [
    "for post in math_search3['text']:\n",
    "    if post in math_search4['text']:\n",
    "        print(post)"
   ]
  },
  {
   "cell_type": "code",
   "execution_count": 26,
   "metadata": {},
   "outputs": [],
   "source": [
    "math_search5 = text_query_to_df(text_query, count)"
   ]
  },
  {
   "cell_type": "code",
   "execution_count": 27,
   "metadata": {},
   "outputs": [],
   "source": [
    "for post in math_search4['text']:\n",
    "    if post in math_search5['text']:\n",
    "        print(post)"
   ]
  },
  {
   "cell_type": "code",
   "execution_count": 28,
   "metadata": {},
   "outputs": [],
   "source": [
    "math_search6 = text_query_to_df(text_query, count)"
   ]
  },
  {
   "cell_type": "code",
   "execution_count": 29,
   "metadata": {},
   "outputs": [],
   "source": [
    "for post in math_search5['text']:\n",
    "    if post in math_search6['text']:\n",
    "        print(post)"
   ]
  },
  {
   "cell_type": "code",
   "execution_count": 30,
   "metadata": {},
   "outputs": [],
   "source": [
    "math_search7 = text_query_to_df(text_query, count)"
   ]
  },
  {
   "cell_type": "code",
   "execution_count": 31,
   "metadata": {},
   "outputs": [],
   "source": [
    "for post in math_search6['text']:\n",
    "    if post in math_search7['text']:\n",
    "        print(post)"
   ]
  },
  {
   "cell_type": "code",
   "execution_count": 32,
   "metadata": {},
   "outputs": [],
   "source": [
    "math_search8 = text_query_to_df(text_query, count)"
   ]
  },
  {
   "cell_type": "code",
   "execution_count": 33,
   "metadata": {},
   "outputs": [],
   "source": [
    "for post in math_search7['text']:\n",
    "    if post in math_search8['text']:\n",
    "        print(post)"
   ]
  },
  {
   "cell_type": "code",
   "execution_count": 34,
   "metadata": {},
   "outputs": [],
   "source": [
    "math_search9 = text_query_to_df(text_query, count)"
   ]
  },
  {
   "cell_type": "code",
   "execution_count": 35,
   "metadata": {},
   "outputs": [],
   "source": [
    "for post in math_search8['text']:\n",
    "    if post in math_search9['text']:\n",
    "        print(post)"
   ]
  },
  {
   "cell_type": "code",
   "execution_count": 36,
   "metadata": {},
   "outputs": [],
   "source": [
    "math_search10 = text_query_to_df(text_query, count)"
   ]
  },
  {
   "cell_type": "code",
   "execution_count": 37,
   "metadata": {},
   "outputs": [],
   "source": [
    "for post in math_search9['text']:\n",
    "    if post in math_search10['text']:\n",
    "        print(post)"
   ]
  },
  {
   "cell_type": "markdown",
   "metadata": {},
   "source": [
    "Put 3,000 tweets in one df and pickle it"
   ]
  },
  {
   "cell_type": "code",
   "execution_count": 38,
   "metadata": {},
   "outputs": [
    {
     "data": {
      "text/plain": [
       "(3000, 7)"
      ]
     },
     "execution_count": 38,
     "metadata": {},
     "output_type": "execute_result"
    }
   ],
   "source": [
    "math = pd.concat([math_search, math_search2, math_search3, \n",
    "                  math_search4, math_search5, math_search6, \n",
    "                  math_search7, math_search8, math_search9, \n",
    "                  math_search10])\n",
    "math.shape"
   ]
  },
  {
   "cell_type": "code",
   "execution_count": 39,
   "metadata": {},
   "outputs": [],
   "source": [
    "math.to_pickle('og_math_twitter_post.pkl')"
   ]
  },
  {
   "cell_type": "markdown",
   "metadata": {},
   "source": [
    "## Get some more data"
   ]
  },
  {
   "cell_type": "code",
   "execution_count": 6,
   "metadata": {},
   "outputs": [],
   "source": [
    "math_search11 = text_query_to_df(text_query, count)"
   ]
  },
  {
   "cell_type": "code",
   "execution_count": 7,
   "metadata": {},
   "outputs": [],
   "source": [
    "math_search12 = text_query_to_df(text_query, count)"
   ]
  },
  {
   "cell_type": "code",
   "execution_count": 8,
   "metadata": {},
   "outputs": [],
   "source": [
    "for post in math_search11['text']:\n",
    "    if post in math_search12['text']:\n",
    "        print(post)"
   ]
  },
  {
   "cell_type": "code",
   "execution_count": 9,
   "metadata": {},
   "outputs": [],
   "source": [
    "math_search13 = text_query_to_df(text_query, count)"
   ]
  },
  {
   "cell_type": "code",
   "execution_count": 10,
   "metadata": {},
   "outputs": [],
   "source": [
    "for post in math_search12['text']:\n",
    "    if post in math_search13['text']:\n",
    "        print(post)"
   ]
  },
  {
   "cell_type": "code",
   "execution_count": 11,
   "metadata": {},
   "outputs": [],
   "source": [
    "math_search14 = text_query_to_df(text_query, count)"
   ]
  },
  {
   "cell_type": "code",
   "execution_count": 12,
   "metadata": {},
   "outputs": [],
   "source": [
    "for post in math_search13['text']:\n",
    "    if post in math_search14['text']:\n",
    "        print(post)"
   ]
  },
  {
   "cell_type": "code",
   "execution_count": 13,
   "metadata": {},
   "outputs": [],
   "source": [
    "math_search15 = text_query_to_df(text_query, count)"
   ]
  },
  {
   "cell_type": "code",
   "execution_count": 14,
   "metadata": {},
   "outputs": [],
   "source": [
    "for post in math_search14['text']:\n",
    "    if post in math_search15['text']:\n",
    "        print(post)"
   ]
  },
  {
   "cell_type": "code",
   "execution_count": 15,
   "metadata": {},
   "outputs": [],
   "source": [
    "math_search16 = text_query_to_df(text_query, count)"
   ]
  },
  {
   "cell_type": "code",
   "execution_count": 16,
   "metadata": {},
   "outputs": [],
   "source": [
    "for post in math_search15['text']:\n",
    "    if post in math_search16['text']:\n",
    "        print(post)"
   ]
  },
  {
   "cell_type": "code",
   "execution_count": 17,
   "metadata": {},
   "outputs": [],
   "source": [
    "math_search17 = text_query_to_df(text_query, count)"
   ]
  },
  {
   "cell_type": "code",
   "execution_count": 18,
   "metadata": {},
   "outputs": [],
   "source": [
    "for post in math_search16['text']:\n",
    "    if post in math_search17['text']:\n",
    "        print(post)"
   ]
  },
  {
   "cell_type": "code",
   "execution_count": 19,
   "metadata": {},
   "outputs": [],
   "source": [
    "math_search18 = text_query_to_df(text_query, count)"
   ]
  },
  {
   "cell_type": "code",
   "execution_count": 20,
   "metadata": {},
   "outputs": [],
   "source": [
    "for post in math_search17['text']:\n",
    "    if post in math_search18['text']:\n",
    "        print(post)"
   ]
  },
  {
   "cell_type": "code",
   "execution_count": 21,
   "metadata": {},
   "outputs": [],
   "source": [
    "math_search19 = text_query_to_df(text_query, count)"
   ]
  },
  {
   "cell_type": "code",
   "execution_count": 22,
   "metadata": {},
   "outputs": [],
   "source": [
    "for post in math_search18['text']:\n",
    "    if post in math_search19['text']:\n",
    "        print(post)"
   ]
  },
  {
   "cell_type": "code",
   "execution_count": 23,
   "metadata": {},
   "outputs": [],
   "source": [
    "math_search20 = text_query_to_df(text_query, count)"
   ]
  },
  {
   "cell_type": "code",
   "execution_count": 24,
   "metadata": {},
   "outputs": [],
   "source": [
    "for post in math_search19['text']:\n",
    "    if post in math_search20['text']:\n",
    "        print(post)"
   ]
  },
  {
   "cell_type": "code",
   "execution_count": 25,
   "metadata": {},
   "outputs": [],
   "source": [
    "math2 = pd.concat([math_search11, math_search12, math_search13, \n",
    "                  math_search14, math_search15, math_search16, \n",
    "                  math_search17, math_search18, math_search19, \n",
    "                  math_search20])"
   ]
  },
  {
   "cell_type": "code",
   "execution_count": 26,
   "metadata": {},
   "outputs": [],
   "source": [
    "math2.to_pickle('og2_math_tweets.pkl')"
   ]
  },
  {
   "cell_type": "code",
   "execution_count": 29,
   "metadata": {},
   "outputs": [],
   "source": [
    "#3000 is too many, it didn't work\n",
    "#try 1000\n",
    "math_search3 = text_query_to_df(text_query, 1000)"
   ]
  },
  {
   "cell_type": "code",
   "execution_count": 31,
   "metadata": {},
   "outputs": [
    {
     "data": {
      "text/html": [
       "<div>\n",
       "<style scoped>\n",
       "    .dataframe tbody tr th:only-of-type {\n",
       "        vertical-align: middle;\n",
       "    }\n",
       "\n",
       "    .dataframe tbody tr th {\n",
       "        vertical-align: top;\n",
       "    }\n",
       "\n",
       "    .dataframe thead th {\n",
       "        text-align: right;\n",
       "    }\n",
       "</style>\n",
       "<table border=\"1\" class=\"dataframe\">\n",
       "  <thead>\n",
       "    <tr style=\"text-align: right;\">\n",
       "      <th></th>\n",
       "      <th>datetime</th>\n",
       "      <th>username</th>\n",
       "      <th>location</th>\n",
       "      <th>tweet_id</th>\n",
       "      <th>num_favorites</th>\n",
       "      <th>num_retweets</th>\n",
       "      <th>text</th>\n",
       "    </tr>\n",
       "  </thead>\n",
       "  <tbody>\n",
       "    <tr>\n",
       "      <th>0</th>\n",
       "      <td>2020-11-05 05:59:13</td>\n",
       "      <td>rbldblr</td>\n",
       "      <td>Compostela, Davao, Philippines</td>\n",
       "      <td>1324229763993489408</td>\n",
       "      <td>0</td>\n",
       "      <td>0</td>\n",
       "      <td>unsa kahay feeling aning mga bright sa math no...</td>\n",
       "    </tr>\n",
       "    <tr>\n",
       "      <th>1</th>\n",
       "      <td>2020-11-05 05:59:11</td>\n",
       "      <td>sendloveeeee</td>\n",
       "      <td>paypal.me/crlnsphrpl</td>\n",
       "      <td>1324229757915947008</td>\n",
       "      <td>0</td>\n",
       "      <td>31</td>\n",
       "      <td>RT @carat_premiums: ‼ SALE ‼ SALE ‼ SALE ‼\\nAV...</td>\n",
       "    </tr>\n",
       "    <tr>\n",
       "      <th>2</th>\n",
       "      <td>2020-11-05 05:59:11</td>\n",
       "      <td>naka_math</td>\n",
       "      <td>滋賀県</td>\n",
       "      <td>1324229755139362816</td>\n",
       "      <td>0</td>\n",
       "      <td>185</td>\n",
       "      <td>RT @MahjongSoul_JP: 【にじたま】\\n雀魂公式番組「にじたま」\\n明日11...</td>\n",
       "    </tr>\n",
       "    <tr>\n",
       "      <th>3</th>\n",
       "      <td>2020-11-05 05:59:11</td>\n",
       "      <td>Ms_JmeK</td>\n",
       "      <td>California, USA</td>\n",
       "      <td>1324229754661138432</td>\n",
       "      <td>0</td>\n",
       "      <td>1787</td>\n",
       "      <td>RT @gelliottmorris: The math in PA is REALLY s...</td>\n",
       "    </tr>\n",
       "    <tr>\n",
       "      <th>4</th>\n",
       "      <td>2020-11-05 05:59:08</td>\n",
       "      <td>KaliKross</td>\n",
       "      <td>Los Angeles, CA</td>\n",
       "      <td>1324229744376737794</td>\n",
       "      <td>0</td>\n",
       "      <td>0</td>\n",
       "      <td>To think: It all comes down to a state that pr...</td>\n",
       "    </tr>\n",
       "  </tbody>\n",
       "</table>\n",
       "</div>"
      ],
      "text/plain": [
       "             datetime      username                        location  \\\n",
       "0 2020-11-05 05:59:13       rbldblr  Compostela, Davao, Philippines   \n",
       "1 2020-11-05 05:59:11  sendloveeeee           paypal.me/crlnsphrpl    \n",
       "2 2020-11-05 05:59:11     naka_math                             滋賀県   \n",
       "3 2020-11-05 05:59:11       Ms_JmeK                 California, USA   \n",
       "4 2020-11-05 05:59:08     KaliKross                 Los Angeles, CA   \n",
       "\n",
       "              tweet_id  num_favorites  num_retweets  \\\n",
       "0  1324229763993489408              0             0   \n",
       "1  1324229757915947008              0            31   \n",
       "2  1324229755139362816              0           185   \n",
       "3  1324229754661138432              0          1787   \n",
       "4  1324229744376737794              0             0   \n",
       "\n",
       "                                                text  \n",
       "0  unsa kahay feeling aning mga bright sa math no...  \n",
       "1  RT @carat_premiums: ‼ SALE ‼ SALE ‼ SALE ‼\\nAV...  \n",
       "2  RT @MahjongSoul_JP: 【にじたま】\\n雀魂公式番組「にじたま」\\n明日11...  \n",
       "3  RT @gelliottmorris: The math in PA is REALLY s...  \n",
       "4  To think: It all comes down to a state that pr...  "
      ]
     },
     "execution_count": 31,
     "metadata": {},
     "output_type": "execute_result"
    }
   ],
   "source": [
    "math_search3.head()"
   ]
  },
  {
   "cell_type": "code",
   "execution_count": 32,
   "metadata": {},
   "outputs": [],
   "source": [
    "#In the future I would write a function that does this\n",
    "time.sleep(1000)\n",
    "math_search4 = text_query_to_df(text_query, 1000)\n",
    "time.sleep(1000)\n",
    "math_search5 = text_query_to_df(text_query, 1000)"
   ]
  },
  {
   "cell_type": "code",
   "execution_count": 33,
   "metadata": {},
   "outputs": [
    {
     "data": {
      "text/plain": [
       "((1000, 7), (1000, 7))"
      ]
     },
     "execution_count": 33,
     "metadata": {},
     "output_type": "execute_result"
    }
   ],
   "source": [
    "math_search4.shape, math_search5.shape"
   ]
  },
  {
   "cell_type": "code",
   "execution_count": 34,
   "metadata": {},
   "outputs": [],
   "source": [
    "math3 = pd.concat([math_search3, math_search4, math_search5])"
   ]
  },
  {
   "cell_type": "code",
   "execution_count": 35,
   "metadata": {},
   "outputs": [],
   "source": [
    "math3.to_pickle('og3_math_tweets.pkl')"
   ]
  }
 ],
 "metadata": {
  "kernelspec": {
   "display_name": "Python 3",
   "language": "python",
   "name": "python3"
  },
  "language_info": {
   "codemirror_mode": {
    "name": "ipython",
    "version": 3
   },
   "file_extension": ".py",
   "mimetype": "text/x-python",
   "name": "python",
   "nbconvert_exporter": "python",
   "pygments_lexer": "ipython3",
   "version": "3.8.5"
  }
 },
 "nbformat": 4,
 "nbformat_minor": 4
}
